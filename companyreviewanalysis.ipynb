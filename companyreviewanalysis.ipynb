{
 "cells": [
  {
   "cell_type": "code",
   "execution_count": 1,
   "metadata": {
    "collapsed": true
   },
   "outputs": [],
   "source": [
    "import re\n",
    "import unicodecsv\n",
    "import numpy as np\n",
    "import pandas as pd\n",
    "import matplotlib\n",
    "import matplotlib.pyplot as plt\n",
    "from collections import Counter\n",
    "%matplotlib inline\n"
   ]
  },
  {
   "cell_type": "code",
   "execution_count": 2,
   "metadata": {
    "collapsed": true
   },
   "outputs": [],
   "source": [
    "#import file tweets. csv\n",
    "\n",
    "filename = 'C:/Users/karen/Downloads/UIC/IDS-566-master/assignment2/Tweets.csv'\n",
    "with open(filename,'rb') as f:\n",
    "    reader = unicodecsv.DictReader(f)\n",
    "    tweets = list(reader)\n",
    " "
   ]
  },
  {
   "cell_type": "code",
   "execution_count": 3,
   "metadata": {},
   "outputs": [
    {
     "data": {
      "text/plain": [
       "OrderedDict([('tweet_id', '570306133677760513'),\n",
       "             ('airline_sentiment', 'neutral'),\n",
       "             ('airline_sentiment_confidence', '1.0'),\n",
       "             ('negativereason', ''),\n",
       "             ('negativereason_confidence', ''),\n",
       "             ('airline', 'Virgin America'),\n",
       "             ('airline_sentiment_gold', ''),\n",
       "             ('name', 'cairdin'),\n",
       "             ('negativereason_gold', ''),\n",
       "             ('retweet_count', '0'),\n",
       "             ('text', '@VirginAmerica What @dhepburn said.'),\n",
       "             ('tweet_coord', ''),\n",
       "             ('tweet_created', '2015-02-24 11:35:52 -0800'),\n",
       "             ('tweet_location', ''),\n",
       "             ('user_timezone', 'Eastern Time (US & Canada)')])"
      ]
     },
     "execution_count": 3,
     "metadata": {},
     "output_type": "execute_result"
    }
   ],
   "source": [
    "#preview data\n",
    "tweets[0]"
   ]
  },
  {
   "cell_type": "markdown",
   "metadata": {},
   "source": [
    "## Extract required fields"
   ]
  },
  {
   "cell_type": "code",
   "execution_count": 4,
   "metadata": {
    "collapsed": true
   },
   "outputs": [],
   "source": [
    "def extract_field(key):\n",
    "    '''key must be a key from tweets, in string type'''\n",
    "    extract = []\n",
    "    for line in tweets:\n",
    "        extract.append(line[key])\n",
    "    return np.array(extract)\n"
   ]
  },
  {
   "cell_type": "code",
   "execution_count": 5,
   "metadata": {
    "collapsed": true
   },
   "outputs": [],
   "source": [
    "airline_sentiment = extract_field('airline_sentiment')\n",
    "airline = extract_field('airline')\n",
    "text = extract_field('text')\n",
    "\n",
    "Tweets = pd.DataFrame(tweets)"
   ]
  },
  {
   "cell_type": "markdown",
   "metadata": {},
   "source": [
    "## Plot Sentiment distribution for each airline "
   ]
  },
  {
   "cell_type": "code",
   "execution_count": 6,
   "metadata": {},
   "outputs": [
    {
     "data": {
      "text/html": [
       "<div>\n",
       "<style>\n",
       "    .dataframe thead tr:only-child th {\n",
       "        text-align: right;\n",
       "    }\n",
       "\n",
       "    .dataframe thead th {\n",
       "        text-align: left;\n",
       "    }\n",
       "\n",
       "    .dataframe tbody tr th {\n",
       "        vertical-align: top;\n",
       "    }\n",
       "</style>\n",
       "<table border=\"1\" class=\"dataframe\">\n",
       "  <thead>\n",
       "    <tr style=\"text-align: right;\">\n",
       "      <th></th>\n",
       "      <th>airline_company</th>\n",
       "      <th>sentiment</th>\n",
       "    </tr>\n",
       "  </thead>\n",
       "  <tbody>\n",
       "    <tr>\n",
       "      <th>0</th>\n",
       "      <td>Virgin America</td>\n",
       "      <td>neutral</td>\n",
       "    </tr>\n",
       "    <tr>\n",
       "      <th>1</th>\n",
       "      <td>Virgin America</td>\n",
       "      <td>positive</td>\n",
       "    </tr>\n",
       "    <tr>\n",
       "      <th>2</th>\n",
       "      <td>Virgin America</td>\n",
       "      <td>neutral</td>\n",
       "    </tr>\n",
       "    <tr>\n",
       "      <th>3</th>\n",
       "      <td>Virgin America</td>\n",
       "      <td>negative</td>\n",
       "    </tr>\n",
       "    <tr>\n",
       "      <th>4</th>\n",
       "      <td>Virgin America</td>\n",
       "      <td>negative</td>\n",
       "    </tr>\n",
       "    <tr>\n",
       "      <th>5</th>\n",
       "      <td>Virgin America</td>\n",
       "      <td>negative</td>\n",
       "    </tr>\n",
       "    <tr>\n",
       "      <th>6</th>\n",
       "      <td>Virgin America</td>\n",
       "      <td>positive</td>\n",
       "    </tr>\n",
       "    <tr>\n",
       "      <th>7</th>\n",
       "      <td>Virgin America</td>\n",
       "      <td>neutral</td>\n",
       "    </tr>\n",
       "    <tr>\n",
       "      <th>8</th>\n",
       "      <td>Virgin America</td>\n",
       "      <td>positive</td>\n",
       "    </tr>\n",
       "    <tr>\n",
       "      <th>9</th>\n",
       "      <td>Virgin America</td>\n",
       "      <td>positive</td>\n",
       "    </tr>\n",
       "    <tr>\n",
       "      <th>10</th>\n",
       "      <td>Virgin America</td>\n",
       "      <td>neutral</td>\n",
       "    </tr>\n",
       "    <tr>\n",
       "      <th>11</th>\n",
       "      <td>Virgin America</td>\n",
       "      <td>positive</td>\n",
       "    </tr>\n",
       "    <tr>\n",
       "      <th>12</th>\n",
       "      <td>Virgin America</td>\n",
       "      <td>positive</td>\n",
       "    </tr>\n",
       "    <tr>\n",
       "      <th>13</th>\n",
       "      <td>Virgin America</td>\n",
       "      <td>positive</td>\n",
       "    </tr>\n",
       "    <tr>\n",
       "      <th>14</th>\n",
       "      <td>Virgin America</td>\n",
       "      <td>positive</td>\n",
       "    </tr>\n",
       "    <tr>\n",
       "      <th>15</th>\n",
       "      <td>Virgin America</td>\n",
       "      <td>negative</td>\n",
       "    </tr>\n",
       "    <tr>\n",
       "      <th>16</th>\n",
       "      <td>Virgin America</td>\n",
       "      <td>positive</td>\n",
       "    </tr>\n",
       "    <tr>\n",
       "      <th>17</th>\n",
       "      <td>Virgin America</td>\n",
       "      <td>negative</td>\n",
       "    </tr>\n",
       "    <tr>\n",
       "      <th>18</th>\n",
       "      <td>Virgin America</td>\n",
       "      <td>positive</td>\n",
       "    </tr>\n",
       "    <tr>\n",
       "      <th>19</th>\n",
       "      <td>Virgin America</td>\n",
       "      <td>positive</td>\n",
       "    </tr>\n",
       "  </tbody>\n",
       "</table>\n",
       "</div>"
      ],
      "text/plain": [
       "   airline_company sentiment\n",
       "0   Virgin America   neutral\n",
       "1   Virgin America  positive\n",
       "2   Virgin America   neutral\n",
       "3   Virgin America  negative\n",
       "4   Virgin America  negative\n",
       "5   Virgin America  negative\n",
       "6   Virgin America  positive\n",
       "7   Virgin America   neutral\n",
       "8   Virgin America  positive\n",
       "9   Virgin America  positive\n",
       "10  Virgin America   neutral\n",
       "11  Virgin America  positive\n",
       "12  Virgin America  positive\n",
       "13  Virgin America  positive\n",
       "14  Virgin America  positive\n",
       "15  Virgin America  negative\n",
       "16  Virgin America  positive\n",
       "17  Virgin America  negative\n",
       "18  Virgin America  positive\n",
       "19  Virgin America  positive"
      ]
     },
     "execution_count": 6,
     "metadata": {},
     "output_type": "execute_result"
    }
   ],
   "source": [
    "# sentiment distribution for each airline\n",
    "\n",
    "sentiment = pd.DataFrame(airline,columns=['airline_company'])\n",
    "sentiment['sentiment'] = airline_sentiment\n",
    "sentiment.head(20)\n",
    "\n"
   ]
  },
  {
   "cell_type": "markdown",
   "metadata": {},
   "source": [
    "visualize the distribution for each airline company"
   ]
  },
  {
   "cell_type": "code",
   "execution_count": 7,
   "metadata": {},
   "outputs": [
    {
     "data": {
      "image/png": "[encoded data removed]",
      "text/plain": [
       "<matplotlib.figure.Figure at 0x299876a9630>"
      ]
     },
     "metadata": {},
     "output_type": "display_data"
    }
   ],
   "source": [
    "#virgin american\n",
    "VA = sentiment[sentiment.airline_company=='Virgin America']\n",
    "counter = Counter(VA['sentiment'])\n",
    "\n",
    "review = list(counter.keys())\n",
    "frequency = counter.values()\n",
    "plt.bar(review,frequency,align='center')\n",
    "plt.title('Virgin American sentiment distribution')\n",
    "plt.xlabel('review')\n",
    "plt.ylabel('frequency')\n",
    "plt.show()\n"
   ]
  },
  {
   "cell_type": "markdown",
   "metadata": {},
   "source": [
    "Conclusion : Virgin America has almost even distribution to 3 types of review, however, the total sample in the data set is too small compared to the other airlines."
   ]
  },
  {
   "cell_type": "code",
   "execution_count": 8,
   "metadata": {},
   "outputs": [
    {
     "data": {
      "image/png": "[encoded data removed]",
      "text/plain": [
       "<matplotlib.figure.Figure at 0x2998768db70>"
      ]
     },
     "metadata": {},
     "output_type": "display_data"
    }
   ],
   "source": [
    "#American Airline\n",
    "AA = sentiment[sentiment.airline_company=='American']\n",
    "counter = Counter(AA['sentiment'])\n",
    "\n",
    "review = list(counter.keys())\n",
    "frequency = counter.values()\n",
    "plt.bar(review,frequency,align='center',color='red')\n",
    "plt.title('American sentiment distribution')\n",
    "plt.xlabel('review')\n",
    "plt.ylabel('frequency')\n",
    "plt.show()\n"
   ]
  },
  {
   "cell_type": "markdown",
   "metadata": {},
   "source": [
    "conclusion:American airline is more \"negative\" in the review from most of the tweets. Most of the reviews from the tweets are negative"
   ]
  },
  {
   "cell_type": "code",
   "execution_count": 9,
   "metadata": {},
   "outputs": [
    {
     "data": {
      "image/png": "[encoded data removed]",
      "text/plain": [
       "<matplotlib.figure.Figure at 0x29988f29588>"
      ]
     },
     "metadata": {},
     "output_type": "display_data"
    }
   ],
   "source": [
    "#Delta\n",
    "DT = sentiment[sentiment.airline_company=='Delta']\n",
    "counter = Counter(DT['sentiment'])\n",
    "\n",
    "review = list(counter.keys())\n",
    "frequency = counter.values()\n",
    "plt.bar(review,frequency,align='center',color='green')\n",
    "plt.title('Delta sentiment distribution')\n",
    "plt.xlabel('review')\n",
    "plt.ylabel('frequency')\n",
    "plt.show()\n"
   ]
  },
  {
   "cell_type": "markdown",
   "metadata": {},
   "source": [
    "Conclusion: Most of the reviews are negatvie in the case of Delta airline while it has least number of review with \"positive\""
   ]
  },
  {
   "cell_type": "code",
   "execution_count": 10,
   "metadata": {
    "scrolled": true
   },
   "outputs": [
    {
     "data": {
      "image/png": "[encoded data removed]",
      "text/plain": [
       "<matplotlib.figure.Figure at 0x29988f8fdd8>"
      ]
     },
     "metadata": {},
     "output_type": "display_data"
    }
   ],
   "source": [
    "#US Airways\n",
    "UA = sentiment[sentiment.airline_company=='US Airways']\n",
    "counter = Counter(UA['sentiment'])\n",
    "\n",
    "review = list(counter.keys())\n",
    "frequency = counter.values()\n",
    "plt.bar(review,frequency,align='center',color='pink')\n",
    "plt.title('US Airways sentiment distribution')\n",
    "plt.xlabel('review')\n",
    "plt.ylabel('frequency')\n",
    "plt.show()\n"
   ]
  },
  {
   "cell_type": "markdown",
   "metadata": {},
   "source": [
    "Conclusion : Most of the review on US airways are negative"
   ]
  },
  {
   "cell_type": "code",
   "execution_count": 11,
   "metadata": {},
   "outputs": [
    {
     "data": {
      "image/png": "[encoded data removed]",
      "text/plain": [
       "<matplotlib.figure.Figure at 0x299866ab5c0>"
      ]
     },
     "metadata": {},
     "output_type": "display_data"
    }
   ],
   "source": [
    "#United\n",
    "UN = sentiment[sentiment.airline_company=='United']\n",
    "counter = Counter(UN['sentiment'])\n",
    "\n",
    "review = list(counter.keys())\n",
    "frequency = counter.values()\n",
    "plt.bar(review,frequency,align='center',color='brown')\n",
    "plt.title('United Airline sentiment distribution')\n",
    "plt.xlabel('review')\n",
    "plt.ylabel('frequency')\n",
    "plt.show()\n"
   ]
  },
  {
   "cell_type": "markdown",
   "metadata": {},
   "source": [
    "Conlusion: United Airline has more negative review, with positive review the least level"
   ]
  },
  {
   "cell_type": "code",
   "execution_count": 12,
   "metadata": {},
   "outputs": [
    {
     "data": {
      "image/png": "[encoded data removed]",
      "text/plain": [
       "<matplotlib.figure.Figure at 0x29988fc07f0>"
      ]
     },
     "metadata": {},
     "output_type": "display_data"
    }
   ],
   "source": [
    "#Southwest\n",
    "\n",
    "SW = sentiment[sentiment.airline_company=='Southwest']\n",
    "counter = Counter(SW['sentiment'])\n",
    "\n",
    "review = list(counter.keys())\n",
    "frequency = counter.values()\n",
    "plt.bar(review,frequency,align='center',color='purple')\n",
    "plt.title('Southwest sentiment distribution')\n",
    "plt.xlabel('review')\n",
    "plt.ylabel('frequency')\n",
    "plt.show()\n"
   ]
  },
  {
   "cell_type": "markdown",
   "metadata": {},
   "source": [
    "Conclusion : Although there are more negative reviews on Southwest Airline, positive reviews and neutral are only slightly lower"
   ]
  },
  {
   "cell_type": "markdown",
   "metadata": {},
   "source": [
    "## Remove URL and mentions and rename hashtag sign to 'hashtag_', Vectorize tweets using count vectorizer\n",
    "\n"
   ]
  },
  {
   "cell_type": "code",
   "execution_count": 14,
   "metadata": {},
   "outputs": [
    {
     "data": {
      "text/html": [
       "<div>\n",
       "<style>\n",
       "    .dataframe thead tr:only-child th {\n",
       "        text-align: right;\n",
       "    }\n",
       "\n",
       "    .dataframe thead th {\n",
       "        text-align: left;\n",
       "    }\n",
       "\n",
       "    .dataframe tbody tr th {\n",
       "        vertical-align: top;\n",
       "    }\n",
       "</style>\n",
       "<table border=\"1\" class=\"dataframe\">\n",
       "  <thead>\n",
       "    <tr style=\"text-align: right;\">\n",
       "      <th></th>\n",
       "      <th>company</th>\n",
       "      <th>sentiment</th>\n",
       "      <th>tweets</th>\n",
       "    </tr>\n",
       "  </thead>\n",
       "  <tbody>\n",
       "    <tr>\n",
       "      <th>0</th>\n",
       "      <td>Virgin America</td>\n",
       "      <td>neutral</td>\n",
       "      <td>what  said.</td>\n",
       "    </tr>\n",
       "    <tr>\n",
       "      <th>1</th>\n",
       "      <td>Virgin America</td>\n",
       "      <td>positive</td>\n",
       "      <td>plus you've added commercials to the experien...</td>\n",
       "    </tr>\n",
       "    <tr>\n",
       "      <th>2</th>\n",
       "      <td>Virgin America</td>\n",
       "      <td>neutral</td>\n",
       "      <td>i didn't today... must mean i need to take an...</td>\n",
       "    </tr>\n",
       "    <tr>\n",
       "      <th>3</th>\n",
       "      <td>Virgin America</td>\n",
       "      <td>negative</td>\n",
       "      <td>it's really aggressive to blast obnoxious \"en...</td>\n",
       "    </tr>\n",
       "    <tr>\n",
       "      <th>4</th>\n",
       "      <td>Virgin America</td>\n",
       "      <td>negative</td>\n",
       "      <td>and it's a really big bad thing about it</td>\n",
       "    </tr>\n",
       "    <tr>\n",
       "      <th>5</th>\n",
       "      <td>Virgin America</td>\n",
       "      <td>negative</td>\n",
       "      <td>seriously would pay $30 a flight for seats th...</td>\n",
       "    </tr>\n",
       "    <tr>\n",
       "      <th>6</th>\n",
       "      <td>Virgin America</td>\n",
       "      <td>positive</td>\n",
       "      <td>yes, nearly every time i fly vx this “ear wor...</td>\n",
       "    </tr>\n",
       "    <tr>\n",
       "      <th>7</th>\n",
       "      <td>Virgin America</td>\n",
       "      <td>neutral</td>\n",
       "      <td>really missed a prime opportunity for men wit...</td>\n",
       "    </tr>\n",
       "    <tr>\n",
       "      <th>8</th>\n",
       "      <td>Virgin America</td>\n",
       "      <td>positive</td>\n",
       "      <td>well, i didn't…but now i do! :-d</td>\n",
       "    </tr>\n",
       "    <tr>\n",
       "      <th>9</th>\n",
       "      <td>Virgin America</td>\n",
       "      <td>positive</td>\n",
       "      <td>it was amazing, and arrived an hour early. yo...</td>\n",
       "    </tr>\n",
       "  </tbody>\n",
       "</table>\n",
       "</div>"
      ],
      "text/plain": [
       "          company sentiment                                             tweets\n",
       "0  Virgin America   neutral                                        what  said.\n",
       "1  Virgin America  positive   plus you've added commercials to the experien...\n",
       "2  Virgin America   neutral   i didn't today... must mean i need to take an...\n",
       "3  Virgin America  negative   it's really aggressive to blast obnoxious \"en...\n",
       "4  Virgin America  negative           and it's a really big bad thing about it\n",
       "5  Virgin America  negative   seriously would pay $30 a flight for seats th...\n",
       "6  Virgin America  positive   yes, nearly every time i fly vx this “ear wor...\n",
       "7  Virgin America   neutral   really missed a prime opportunity for men wit...\n",
       "8  Virgin America  positive                   well, i didn't…but now i do! :-d\n",
       "9  Virgin America  positive   it was amazing, and arrived an hour early. yo..."
      ]
     },
     "execution_count": 14,
     "metadata": {},
     "output_type": "execute_result"
    }
   ],
   "source": [
    "data = pd.DataFrame(airline,columns=['company'])\n",
    "data['sentiment'] = airline_sentiment\n",
    "\n",
    "\n",
    "regexp_url = 'http[s]?://(?:[a-zA-Z]|[0-9]|[$-_@.&+]|[!*\\(\\),]|(?:%[0-9a-fA-F][0-9a-fA-F]))+'\n",
    "pattern_url = re.compile(regexp_url, re.UNICODE | re.IGNORECASE)\n",
    "\n",
    "regexp_hashtag = '(?<=^|(?<=[^a-zA-Z0-9-_\\.]))#([A-Za-z]+[A-Za-z0-9]+)'\n",
    "pattern_hashtag = re.compile(regexp_hashtag, re.UNICODE | re.IGNORECASE)\n",
    "\n",
    "regexp_mention = '(?<=^|(?<=[^a-zA-Z0-9-_\\.]))@([A-Za-z]+[A-Za-z0-9]+)'\n",
    "pattern_mention = re.compile(regexp_mention, re.UNICODE | re.IGNORECASE)\n",
    "\n",
    "final_tweet = []\n",
    "for line in text:\n",
    "    #Changing URLs to 'url'\n",
    "    line = pattern_url.sub('url', line.lower())\n",
    "\n",
    "    #Chaning hashtag sign (#) to 'hashtag_'\n",
    "    line = pattern_hashtag.sub(r'hashtag_\\1', line)\n",
    "\n",
    "    #Removing mentions\n",
    "    line = pattern_mention.sub('', line)\n",
    "\n",
    "    final_tweet.append(line)\n",
    "#preview\n",
    "#final_tweet[:10]\n",
    "#append that onto the data frame\n",
    "\n",
    "data['tweets'] = final_tweet\n",
    "\n",
    "#preview again\n",
    "data.head(10)\n"
   ]
  },
  {
   "cell_type": "code",
   "execution_count": 15,
   "metadata": {},
   "outputs": [
    {
     "name": "stdout",
     "output_type": "stream",
     "text": [
      "[[0 0 0 ..., 0 0 0]\n",
      " [0 0 0 ..., 0 0 0]\n",
      " [0 0 0 ..., 0 0 0]\n",
      " ..., \n",
      " [0 0 0 ..., 0 0 0]\n",
      " [0 0 0 ..., 0 0 0]\n",
      " [0 0 0 ..., 0 0 0]]\n"
     ]
    }
   ],
   "source": [
    "#vectorized tweets \n",
    "from sklearn.feature_extraction.text import CountVectorizer, TfidfVectorizer,TfidfTransformer\n",
    "count_vector = CountVectorizer(binary=False)\n",
    "tweet_text = count_vector.fit_transform(final_tweet)\n",
    "print(tweet_text.toarray())\n"
   ]
  },
  {
   "cell_type": "code",
   "execution_count": 16,
   "metadata": {
    "collapsed": true
   },
   "outputs": [],
   "source": [
    "#create subsets for each airline c\n",
    "aa=pd.DataFrame(data[data.company=='American'])\n",
    "va=data[data.company=='Virgin America']\n",
    "sw=data[data.company=='Southwest']\n",
    "dt=data[data.company=='Delta']\n",
    "ua=data[data.company=='US Airways']\n",
    "un=data[data.company=='United']\n"
   ]
  },
  {
   "cell_type": "markdown",
   "metadata": {},
   "source": [
    "## Using logistic regression for each airline "
   ]
  },
  {
   "cell_type": "code",
   "execution_count": 17,
   "metadata": {
    "collapsed": true
   },
   "outputs": [],
   "source": [
    "from sklearn.linear_model import LogisticRegression \n",
    "#vectoriz tweets for each airline, train a logistic model and perform 10-fold-cv with accuracy and F1 score\n",
    "from sklearn.model_selection import KFold\n",
    "#based on tweets, predict sentiment for each airline\n",
    "from sklearn.metrics  import accuracy_score, classification_report, confusion_matrix, precision_score, recall_score, f1_score\n",
    "metrics = [accuracy_score, precision_score, recall_score, f1_score]\n",
    "scores = []\n",
    "\n",
    "#first create a model in the case of Virgin America\n",
    "kf = KFold(n_splits=10)\n",
    "for train,valid in kf.split(va):\n",
    "    x_train_text = va['tweets'][train]\n",
    "    y_train = va['sentiment'][train]\n",
    "    \n",
    "    x_valid_text = va['tweets'][valid]\n",
    "    y_valid = va['sentiment'][valid]\n",
    "    \n",
    "    vectorizer = TfidfVectorizer(min_df=.0005)\n",
    "    #create vectorizer before building model\n",
    "    x_train = vectorizer.fit_transform(x_train_text)\n",
    "    x_valid = vectorizer.transform(x_valid_text)\n",
    "    \n",
    "    LR = LogisticRegression(C=5,solver='lbfgs',class_weight='balanced',multi_class = 'multinomial',) #set up inverse of regularization strength\n",
    "    LR.fit (x_train,y_train)\n",
    "    \n",
    "    p_valid = LR.predict(x_valid)\n",
    "    #scores.append([metric(y_valid, p_valid) for metric in metrics])\n",
    "#scores = np.array(scores).mean(0)\n",
    "#print(\"Accuracy:  %.03f\" % scores[0])\n",
    "#print(\"Precision: %.03f\" % scores[1])\n",
    "#print(\"Recall:    %.03f\" % scores[2])\n",
    "#print(\"F1:        %.03f\" % scores[3])\n"
   ]
  },
  {
   "cell_type": "code",
   "execution_count": 18,
   "metadata": {},
   "outputs": [
    {
     "name": "stdout",
     "output_type": "stream",
     "text": [
      "             precision    recall  f1-score   support\n",
      "\n",
      "    neutral       0.32      0.55      0.40        11\n",
      "   positive       0.64      0.35      0.45        20\n",
      "   negative       0.45      0.47      0.46        19\n",
      "\n",
      "avg / total       0.50      0.44      0.44        50\n",
      "\n",
      "Accuracy is : 0.44\n"
     ]
    }
   ],
   "source": [
    "target_name = ['neutral','positive','negative']\n",
    "print(classification_report(y_valid,p_valid,target_names=target_name))\n",
    "print(\"Accuracy is :\" , accuracy_score(y_valid,p_valid))\n"
   ]
  },
  {
   "cell_type": "markdown",
   "metadata": {},
   "source": [
    "## Conduct a function to create a logistic model and return the report for each airline"
   ]
  },
  {
   "cell_type": "code",
   "execution_count": 19,
   "metadata": {
    "collapsed": true
   },
   "outputs": [],
   "source": [
    "def logisticreg_report(airlinecompany):\n",
    "    companyname = np.array(airlinecompany)\n",
    "    kf = KFold(n_splits=10)\n",
    "    for train,valid in kf.split(companyname):\n",
    "        x_train_text = companyname[:,2][train]\n",
    "        y_train = companyname[:,1][train]\n",
    "    \n",
    "        x_valid_text = companyname[:,2][valid]\n",
    "        y_valid = companyname[:,1][valid]\n",
    "    \n",
    "        vectorizer = TfidfVectorizer(min_df=.0005)\n",
    "       #create vectorizer before building model\n",
    "        x_train = vectorizer.fit_transform(x_train_text)\n",
    "        x_valid = vectorizer.transform(x_valid_text)\n",
    "    \n",
    "        LR = LogisticRegression(C=5,solver='lbfgs',class_weight='balanced',multi_class = 'multinomial') #set up inverse of regularization strength\n",
    "        LR.fit (x_train,y_train)\n",
    "    \n",
    "        p_valid = LR.predict(x_valid)\n",
    "    target_name = ['neutral','positive','negative']\n",
    "    print(classification_report(y_valid,p_valid,target_names=target_name))\n",
    "    print(\"Accuracy is :\" , accuracy_score(y_valid,p_valid))"
   ]
  },
  {
   "cell_type": "markdown",
   "metadata": {},
   "source": [
    "America Airline "
   ]
  },
  {
   "cell_type": "code",
   "execution_count": 20,
   "metadata": {},
   "outputs": [
    {
     "name": "stdout",
     "output_type": "stream",
     "text": [
      "             precision    recall  f1-score   support\n",
      "\n",
      "    neutral       0.88      0.88      0.88       215\n",
      "   positive       0.36      0.38      0.37        34\n",
      "   negative       0.78      0.69      0.73        26\n",
      "\n",
      "avg / total       0.81      0.80      0.80       275\n",
      "\n",
      "Accuracy is : 0.803636363636\n"
     ]
    }
   ],
   "source": [
    "logisticreg_report(aa)\n"
   ]
  },
  {
   "cell_type": "markdown",
   "metadata": {
    "collapsed": true
   },
   "source": [
    "Southwest"
   ]
  },
  {
   "cell_type": "code",
   "execution_count": 21,
   "metadata": {},
   "outputs": [
    {
     "name": "stdout",
     "output_type": "stream",
     "text": [
      "             precision    recall  f1-score   support\n",
      "\n",
      "    neutral       0.85      0.86      0.85       133\n",
      "   positive       0.65      0.65      0.65        63\n",
      "   negative       0.73      0.72      0.73        46\n",
      "\n",
      "avg / total       0.78      0.78      0.78       242\n",
      "\n",
      "Accuracy is : 0.776859504132\n"
     ]
    }
   ],
   "source": [
    "logisticreg_report(sw)"
   ]
  },
  {
   "cell_type": "markdown",
   "metadata": {
    "collapsed": true
   },
   "source": [
    "US Airways, United Airline, Delta"
   ]
  },
  {
   "cell_type": "code",
   "execution_count": 22,
   "metadata": {},
   "outputs": [
    {
     "name": "stdout",
     "output_type": "stream",
     "text": [
      "             precision    recall  f1-score   support\n",
      "\n",
      "    neutral       0.86      0.85      0.86       215\n",
      "   positive       0.19      0.25      0.22        28\n",
      "   negative       0.73      0.62      0.67        48\n",
      "\n",
      "avg / total       0.77      0.76      0.76       291\n",
      "\n",
      "Accuracy is : 0.756013745704\n",
      "             precision    recall  f1-score   support\n",
      "\n",
      "    neutral       0.83      0.81      0.82       259\n",
      "   positive       0.44      0.45      0.44        74\n",
      "   negative       0.54      0.59      0.56        49\n",
      "\n",
      "avg / total       0.72      0.71      0.72       382\n",
      "\n",
      "Accuracy is : 0.714659685864\n",
      "             precision    recall  f1-score   support\n",
      "\n",
      "    neutral       0.73      0.83      0.78        94\n",
      "   positive       0.67      0.51      0.58        73\n",
      "   negative       0.68      0.75      0.71        55\n",
      "\n",
      "avg / total       0.70      0.70      0.70       222\n",
      "\n",
      "Accuracy is : 0.702702702703\n"
     ]
    }
   ],
   "source": [
    "logisticreg_report(ua)\n",
    "logisticreg_report(un)\n",
    "logisticreg_report(dt)\n"
   ]
  },
  {
   "cell_type": "markdown",
   "metadata": {},
   "source": [
    "Conclusion :\n",
    "In the Logistic regression, the model does not do well in the case of company Virgin American in terms of accuracy.  In terms of precision scores, recall, and f1 scores, the classifier is not good at finding the right classes in different companies. For example, in the case of US Airways, the precision score for\"positive\" is extremely low, which means that for those samples with\"positive\" cannot be predicted by this classifier."
   ]
  },
  {
   "cell_type": "markdown",
   "metadata": {},
   "source": [
    "# repeat the previous modeling with multinomial Naive Bayes Classification"
   ]
  },
  {
   "cell_type": "code",
   "execution_count": 27,
   "metadata": {
    "collapsed": true
   },
   "outputs": [],
   "source": [
    "from sklearn.naive_bayes import BernoulliNB, MultinomialNB, GaussianNB\n",
    "def naivebayes_report(company_name):\n",
    "    company_name = np.array(company_name)\n",
    "    kf_nb = KFold(n_splits = 10)\n",
    "    for train_nb,valid_nb in kf_nb.split(company_name):\n",
    "        x_train = company_name[:,2][train_nb]\n",
    "        y_train = company_name[:,1][train_nb]\n",
    "        \n",
    "        x_valid = company_name[:,2][valid_nb]\n",
    "        y_valid = company_name[:,1][valid_nb]\n",
    "        \n",
    "        count = CountVectorizer(min_df = 1,stop_words = 'english')\n",
    "        X_train = count.fit_transform(x_train)\n",
    "        X_valid = count.transform(x_valid)\n",
    "        \n",
    "        MNB = MultinomialNB(1e-10)\n",
    "        MNB.fit(X_train,y_train)\n",
    "        p_valid = MNB.predict(X_valid)\n",
    "   \n",
    "    target_name = ['neutral','positive','negative']\n",
    "    print(classification_report(y_valid,p_valid,target_names=target_name))\n",
    "    print(\"Accuray is :\", accuracy_score(y_valid, p_valid))"
   ]
  },
  {
   "cell_type": "code",
   "execution_count": 28,
   "metadata": {},
   "outputs": [
    {
     "name": "stdout",
     "output_type": "stream",
     "text": [
      "             precision    recall  f1-score   support\n",
      "\n",
      "    neutral       0.83      0.95      0.89       215\n",
      "   positive       0.40      0.18      0.24        34\n",
      "   negative       0.64      0.35      0.45        26\n",
      "\n",
      "avg / total       0.76      0.80      0.77       275\n",
      "\n",
      "Accuray is : 0.8\n"
     ]
    }
   ],
   "source": [
    "naivebayes_report(aa)"
   ]
  },
  {
   "cell_type": "markdown",
   "metadata": {},
   "source": [
    "Delta, Virgin American, US Airways, United Airline, Southwest"
   ]
  },
  {
   "cell_type": "code",
   "execution_count": 29,
   "metadata": {},
   "outputs": [
    {
     "name": "stdout",
     "output_type": "stream",
     "text": [
      "             precision    recall  f1-score   support\n",
      "\n",
      "    neutral       0.64      0.81      0.72        94\n",
      "   positive       0.60      0.42      0.50        73\n",
      "   negative       0.60      0.56      0.58        55\n",
      "\n",
      "avg / total       0.62      0.62      0.61       222\n",
      "\n",
      "Accuray is : 0.621621621622\n"
     ]
    }
   ],
   "source": [
    "naivebayes_report(dt)\n"
   ]
  },
  {
   "cell_type": "code",
   "execution_count": 30,
   "metadata": {},
   "outputs": [
    {
     "name": "stdout",
     "output_type": "stream",
     "text": [
      "             precision    recall  f1-score   support\n",
      "\n",
      "    neutral       0.25      0.55      0.34        11\n",
      "   positive       0.36      0.25      0.29        20\n",
      "   negative       0.58      0.37      0.45        19\n",
      "\n",
      "avg / total       0.42      0.36      0.36        50\n",
      "\n",
      "Accuray is : 0.36\n"
     ]
    }
   ],
   "source": [
    "naivebayes_report(va)"
   ]
  },
  {
   "cell_type": "code",
   "execution_count": 31,
   "metadata": {},
   "outputs": [
    {
     "name": "stdout",
     "output_type": "stream",
     "text": [
      "             precision    recall  f1-score   support\n",
      "\n",
      "    neutral       0.80      0.98      0.88       215\n",
      "   positive       0.25      0.07      0.11        28\n",
      "   negative       0.90      0.38      0.53        48\n",
      "\n",
      "avg / total       0.76      0.79      0.75       291\n",
      "\n",
      "Accuray is : 0.790378006873\n"
     ]
    }
   ],
   "source": [
    "naivebayes_report(ua)"
   ]
  },
  {
   "cell_type": "code",
   "execution_count": 32,
   "metadata": {},
   "outputs": [
    {
     "name": "stdout",
     "output_type": "stream",
     "text": [
      "             precision    recall  f1-score   support\n",
      "\n",
      "    neutral       0.75      0.93      0.83       259\n",
      "   positive       0.59      0.27      0.37        74\n",
      "   negative       0.46      0.22      0.30        49\n",
      "\n",
      "avg / total       0.68      0.71      0.67       382\n",
      "\n",
      "Accuray is : 0.714659685864\n"
     ]
    }
   ],
   "source": [
    "naivebayes_report(un)"
   ]
  },
  {
   "cell_type": "code",
   "execution_count": 33,
   "metadata": {},
   "outputs": [
    {
     "name": "stdout",
     "output_type": "stream",
     "text": [
      "             precision    recall  f1-score   support\n",
      "\n",
      "    neutral       0.72      0.85      0.78       133\n",
      "   positive       0.53      0.46      0.49        63\n",
      "   negative       0.65      0.43      0.52        46\n",
      "\n",
      "avg / total       0.66      0.67      0.66       242\n",
      "\n",
      "Accuray is : 0.669421487603\n"
     ]
    }
   ],
   "source": [
    "naivebayes_report(sw)"
   ]
  },
  {
   "cell_type": "markdown",
   "metadata": {},
   "source": [
    "Conclusion:\n",
    "This Multinomial NB classifer has poorer performance in terms of accuracy compared to those predicted by Logistic regression. In another word, especially in the case of Virgin American, the NB model is bad at predicting the sample with review \"neutral\" correctly."
   ]
  },
  {
   "cell_type": "markdown",
   "metadata": {},
   "source": [
    "## Join airlines together then train logistic regression and multinomial Naive Bayes with 10-folds cv and analyze the result"
   ]
  },
  {
   "cell_type": "code",
   "execution_count": 34,
   "metadata": {
    "collapsed": true
   },
   "outputs": [],
   "source": [
    "kf_all = KFold(n_splits=10)\n",
    "for training, testing in kf_all.split(data):\n",
    "    x_training = data['tweets'][training]\n",
    "    y_training = data['sentiment'][training]\n",
    "    \n",
    "    x_valid = data['tweets'][testing]\n",
    "    y_valid = data['sentiment'][testing]\n",
    "    \n",
    "    #tfidf \n",
    "    tf_counter = TfidfVectorizer(min_df = .0005)\n",
    "    x_alltrain = tf_counter.fit_transform(x_training)  #fit_transform()\n",
    "    x_allvalid = tf_counter.transform(x_valid)     #transform()\n",
    "\n",
    "    \n",
    "    #build up a logistic regression model\n",
    "    LR_all = LogisticRegression(C=5,solver='lbfgs',class_weight='balanced',multi_class = 'multinomial')\n",
    "    #set up inverse of regularization strength\n",
    "    #solver liblinear cannot be used to solve non_binary problem\n",
    "    LR_all.fit(x_alltrain,y_training)\n",
    "    \n",
    "    predicted_sentiment = LR_all.predict(x_allvalid)    "
   ]
  },
  {
   "cell_type": "markdown",
   "metadata": {},
   "source": [
    "print out the result from the model for all companys"
   ]
  },
  {
   "cell_type": "code",
   "execution_count": 36,
   "metadata": {
    "scrolled": true
   },
   "outputs": [
    {
     "name": "stdout",
     "output_type": "stream",
     "text": [
      "Accuracy is : 0.78893442623\n",
      "             precision    recall  f1-score   support\n",
      "\n",
      "    neutral       0.94      0.81      0.87      1127\n",
      "   positive       0.43      0.67      0.52       200\n",
      "   negative       0.60      0.78      0.68       137\n",
      "\n",
      "avg / total       0.84      0.79      0.80      1464\n",
      "\n"
     ]
    }
   ],
   "source": [
    "print(\"Accuracy is :\" , accuracy_score(y_valid, predicted_sentiment))\n",
    "target_name = ['neutral','positive','negative']\n",
    "print(classification_report(y_valid,predicted_sentiment,target_names=target_name))\n"
   ]
  },
  {
   "cell_type": "markdown",
   "metadata": {},
   "source": [
    "Conclusion:\n",
    "this classifier is doing a great job on classifying tweets with \"neutral\" reviews while for the other two classes, it is not good at findinig the right sample. Therefore, it means that even the accuracy score is high in this model, more of this accuracy comes from the accuracy in \"neutral\" instead of \"positive\" and \"negative\""
   ]
  },
  {
   "cell_type": "markdown",
   "metadata": {},
   "source": [
    "## Build Naive Bayes Model on all airlines"
   ]
  },
  {
   "cell_type": "code",
   "execution_count": 37,
   "metadata": {
    "collapsed": true
   },
   "outputs": [],
   "source": [
    "kf_nball = KFold(n_splits=10)\n",
    "for train, valid in kf_nball.split(data):\n",
    "    x_train_text = data['tweets'][train]\n",
    "    y_train = data['sentiment'][train]\n",
    "    \n",
    "    x_valid = data['tweets'][valid]\n",
    "    y_valid = data['sentiment'][valid]\n",
    "    \n",
    "    \n",
    "    #countvectorizer\n",
    "    count_vect = CountVectorizer(min_df = 1, stop_words = 'english')\n",
    "    x_train = count_vect.fit_transform(x_train_text)\n",
    "    x_valid_set = count_vect.transform(x_valid)\n",
    "    \n",
    "    #multinomial NB model\n",
    "    Multinomial_NB = MultinomialNB(1e-10) #how to setup this number?\n",
    "    Multinomial_NB.fit(x_train,y_train)\n",
    "    #predict the result by using the validation set\n",
    "    predict_sentiment = Multinomial_NB.predict(x_valid_set)\n",
    "\n",
    "    "
   ]
  },
  {
   "cell_type": "markdown",
   "metadata": {},
   "source": [
    "print out the result report from the Naive Bayes Multinomial Model"
   ]
  },
  {
   "cell_type": "code",
   "execution_count": 39,
   "metadata": {},
   "outputs": [
    {
     "name": "stdout",
     "output_type": "stream",
     "text": [
      "Accuracy is : 0.79781420765\n",
      "             precision    recall  f1-score   support\n",
      "\n",
      "    neutral       0.86      0.91      0.89      1127\n",
      "   positive       0.46      0.35      0.40       200\n",
      "   negative       0.58      0.51      0.54       137\n",
      "\n",
      "avg / total       0.78      0.80      0.79      1464\n",
      "\n"
     ]
    }
   ],
   "source": [
    "print(\"Accuracy is :\", accuracy_score(y_valid,predict_sentiment))\n",
    "target_name = ['neutral','positive','negative']\n",
    "print(classification_report(y_valid,predict_sentiment,target_names = target_name))"
   ]
  },
  {
   "cell_type": "markdown",
   "metadata": {},
   "source": [
    "Conclusion:\n",
    "From the Naive Bayes Classifer, the accuracy is 79.8% , by considering the precision and recall , the model is not good at findining those tweets that has a review of 'positive' and 'negative' but for 'neutral' , this classifier is doing a better job. This might be the reason that in the sample, there are more instances with 'neutral' review while for the other two classes, the fraction in the data might not be large enough."
   ]
  },
  {
   "cell_type": "markdown",
   "metadata": {},
   "source": [
    "## Randomly generate 20% of the data for testing set and 80% for training"
   ]
  },
  {
   "cell_type": "code",
   "execution_count": 40,
   "metadata": {
    "collapsed": true
   },
   "outputs": [],
   "source": [
    "#shuffle the data first\n",
    "data = data.sample(frac=1,random_state=100)\n",
    "#20% for testing\n",
    "x_testing_set = data['tweets'][:2928,]\n",
    "y_testing_set = data['sentiment'][:2928,]\n",
    "\n",
    "#80% for training\n",
    "x_training_set = data['tweets'][2928:,]\n",
    "y_training_set = data['sentiment'][2928:,]\n",
    "#_training_set\n",
    "\n",
    "\n"
   ]
  },
  {
   "cell_type": "markdown",
   "metadata": {},
   "source": [
    "Learning curves"
   ]
  },
  {
   "cell_type": "markdown",
   "metadata": {},
   "source": [
    "Logistic regression on 80% of data"
   ]
  },
  {
   "cell_type": "code",
   "execution_count": 267,
   "metadata": {},
   "outputs": [
    {
     "name": "stdout",
     "output_type": "stream",
     "text": [
      "Accuracy is : 0.762636612022\n",
      "             precision    recall  f1-score   support\n",
      "\n",
      "    neutral       0.89      0.80      0.84      1849\n",
      "   positive       0.56      0.66      0.61       608\n",
      "   negative       0.64      0.75      0.69       471\n",
      "\n",
      "avg / total       0.78      0.76      0.77      2928\n",
      "\n"
     ]
    }
   ],
   "source": [
    "#vecotrizing the dataset\n",
    "vectorizer = TfidfVectorizer(min_df=0.0005)\n",
    "x_training = vectorizer.fit_transform(x_training_set)\n",
    "x_testing = vectorizer.transform(x_testing_set)\n",
    "\n",
    "Logistic_reg = LogisticRegression(C=5,solver='lbfgs',class_weight='balanced',multi_class = 'multinomial')\n",
    "Logistic_reg.fit(x_training,y_training_set)\n",
    "predict_sentiment = Logistic_reg.predict(x_testing)\n",
    "\n",
    "print(\"Accuracy is :\" , accuracy_score(y_testing_set,predict_sentiment))\n",
    "print(classification_report(y_testing_set,predict_sentiment,target_names = target_name))"
   ]
  },
  {
   "cell_type": "markdown",
   "metadata": {},
   "source": [
    "Logistic regression on 5%,10%,15%,...80% for training data"
   ]
  },
  {
   "cell_type": "code",
   "execution_count": 41,
   "metadata": {
    "collapsed": true
   },
   "outputs": [],
   "source": [
    "scores = []\n",
    "for i in range(586,11721,586):  #increase the size every 5% of the training data set--> every 5% = 586 of 11712 rows\n",
    "    x_training = x_training_set[:i]\n",
    "    y_training = y_training_set[:i]\n",
    "    \n",
    "    #testing set is always the same \n",
    "    #vectorizing the training and testing set\n",
    "\n",
    "    v = TfidfVectorizer(min_df=0.0005)\n",
    "    x_train = v.fit_transform(x_training)\n",
    "    x_testing = v.transform(x_testing_set)\n",
    "    \n",
    "    #build up lg model\n",
    "    LR = LogisticRegression(C=5)\n",
    "    LR.fit(x_train,y_training)\n",
    "    #generate predicted results\n",
    "    predict_result = LR.predict(x_testing)\n",
    "    \n",
    "    accuracy = accuracy_score(y_testing_set,predict_result)\n",
    "    precision = precision_score(y_testing_set,predict_result,average=None).mean()\n",
    "    recall = recall_score(y_testing_set,predict_result,average=None).mean()\n",
    "    f1 = f1_score(y_testing_set,predict_result,average=None).mean()\n",
    "    # select avg = none means return the score for each \n",
    "    #select class with maximal score\n",
    "    metrics = [accuracy,precision,recall,f1]\n",
    "    scores.append([metric for metric in metrics])\n",
    "    #for metric in metrics:\n",
    "        #scores.append(metric)\n",
    "    #generate a dataframe for final result \n",
    "    \n",
    "\n"
   ]
  },
  {
   "cell_type": "code",
   "execution_count": 42,
   "metadata": {},
   "outputs": [
    {
     "name": "stdout",
     "output_type": "stream",
     "text": [
      "[[ 0.73121585  0.73090833  0.53821079  0.57669878]\n",
      " [ 0.74624317  0.73205538  0.57276767  0.61318166]\n",
      " [ 0.76536885  0.75866247  0.60622156  0.64941654]\n",
      " [ 0.77117486  0.74403504  0.63080501  0.66803368]\n",
      " [ 0.78586066  0.76111999  0.65765408  0.6940739 ]\n",
      " [ 0.78381148  0.74640167  0.66275182  0.69389029]\n",
      " [ 0.7807377   0.73587569  0.66639945  0.69339544]\n",
      " [ 0.78961749  0.7486762   0.68428251  0.7101552 ]\n",
      " [ 0.79576503  0.75950692  0.6897083   0.71745519]\n",
      " [ 0.79610656  0.75461491  0.69810732  0.72150402]\n",
      " [ 0.80259563  0.76355139  0.70720904  0.73070059]\n",
      " [ 0.80020492  0.75973107  0.70778327  0.72978597]\n",
      " [ 0.81079235  0.77377208  0.72092452  0.74337487]\n",
      " [ 0.80362022  0.75831692  0.71320104  0.73270785]\n",
      " [ 0.80942623  0.77150674  0.71913913  0.74142176]\n",
      " [ 0.80806011  0.7720698   0.71851403  0.74125382]\n",
      " [ 0.81181694  0.77545228  0.72545222  0.7468065 ]\n",
      " [ 0.81386612  0.77655535  0.72643516  0.74786728]\n",
      " [ 0.81454918  0.77833489  0.72565754  0.74799292]\n",
      " [ 0.81386612  0.77540372  0.72574395  0.74699418]]\n"
     ]
    }
   ],
   "source": [
    "print(np.array(scores))"
   ]
  },
  {
   "cell_type": "code",
   "execution_count": 43,
   "metadata": {
    "collapsed": true
   },
   "outputs": [],
   "source": [
    "scores = np.array(scores)"
   ]
  },
  {
   "cell_type": "code",
   "execution_count": 44,
   "metadata": {},
   "outputs": [
    {
     "data": {
      "image/png": "[encoded data removed]",
      "text/plain": [
       "<matplotlib.figure.Figure at 0x2998a7d97f0>"
      ]
     },
     "metadata": {},
     "output_type": "display_data"
    }
   ],
   "source": [
    "size = np.arange(568, 11721, 568)\n",
    "plt.title(\"Learning curve\")\n",
    "\n",
    "plt.plot(size, scores[:, 0], label = 'Accuracy')\n",
    "plt.plot(size, scores[:, 1], label = 'Precision')\n",
    "plt.plot(size, scores[:, 2], label = 'Recall')\n",
    "plt.plot(size, scores[:, 3], label = 'F1')\n",
    "\n",
    "plt.xlabel('Training size')\n",
    "plt.ylabel('Metric')\n",
    "plt.xlim(size.min(), size.max())\n",
    "#plt.ylim(0, 200)\n",
    "plt.legend(loc = 'lower right')\n",
    "plt.show()\n"
   ]
  },
  {
   "cell_type": "markdown",
   "metadata": {},
   "source": [
    "Conclusion:\n",
    "From the learning curve generated by Logistric regression on all airline companies, acurracy score is getting higher when we increase the training data set to 50% of the whole data,however, this won't make much better when we are trying to include more data for training over 50%.\n",
    "As for the other metrics, it has the same situation that the model for logistic regression is not getting much better when we are trying to include more data for training."
   ]
  },
  {
   "cell_type": "markdown",
   "metadata": {},
   "source": [
    "Multinomial Naive Bayes Classification"
   ]
  },
  {
   "cell_type": "code",
   "execution_count": 45,
   "metadata": {
    "collapsed": true
   },
   "outputs": [],
   "source": [
    "scores_nb = []\n",
    "for i in range(586,11721,586):  #increase the size every 5% of the training data set--> every 5% = 586 of 11712 rows\n",
    "    x_training = x_training_set[:i]\n",
    "    y_training = y_training_set[:i]\n",
    "    \n",
    "    #testing set is always the same \n",
    "    #vectorizing the training and testing set\n",
    "\n",
    "    v = TfidfVectorizer(min_df=0.0005)\n",
    "    x_train = v.fit_transform(x_training)\n",
    "    x_testing = v.transform(x_testing_set)\n",
    "    \n",
    "    #build up MNB model\n",
    "    MNB_all = MultinomialNB(1e-10)\n",
    "    MNB_all.fit(x_train,y_training)\n",
    "    #generate predicted results\n",
    "    predict_result = MNB_all.predict(x_testing)\n",
    "    \n",
    "    accuracy = accuracy_score(y_testing_set,predict_result)\n",
    "    precision = precision_score(y_testing_set,predict_result,average=None).mean()\n",
    "    recall = recall_score(y_testing_set,predict_result,average=None).mean()\n",
    "    f1 = f1_score(y_testing_set,predict_result,average=None).mean()\n",
    "    # select avg = none means return the score for each \n",
    "    #select class with the average score from each class\n",
    "    metrics = [accuracy,precision,recall,f1]\n",
    "    scores_nb.append([metric for metric in metrics])\n",
    "    #for metric in metrics:\n",
    "        #scores.append(metric)\n",
    "    #generate a dataframe for final result \n",
    "    \n",
    "\n"
   ]
  },
  {
   "cell_type": "code",
   "execution_count": 46,
   "metadata": {},
   "outputs": [
    {
     "name": "stdout",
     "output_type": "stream",
     "text": [
      "[[ 0.68647541  0.61584428  0.4844913   0.50766916]\n",
      " [ 0.69808743  0.63124886  0.50817516  0.53463033]\n",
      " [ 0.70321038  0.65488974  0.51199448  0.54175271]\n",
      " [ 0.72131148  0.69271582  0.52865261  0.56260379]\n",
      " [ 0.72233607  0.68950008  0.53602704  0.57044364]\n",
      " [ 0.72199454  0.67825629  0.53780634  0.57068576]\n",
      " [ 0.73872951  0.71805775  0.5552218   0.59276342]\n",
      " [ 0.74419399  0.73137904  0.56472493  0.60412017]\n",
      " [ 0.74624317  0.72389444  0.57364007  0.61170122]\n",
      " [ 0.75034153  0.73395789  0.58362875  0.62358809]\n",
      " [ 0.74692623  0.7410219   0.56771994  0.60796146]\n",
      " [ 0.75102459  0.74506441  0.57884409  0.61987404]\n",
      " [ 0.75717213  0.75568792  0.5872978   0.63012441]\n",
      " [ 0.75853825  0.75525212  0.59066293  0.63324274]\n",
      " [ 0.76092896  0.75832486  0.59380784  0.63695197]\n",
      " [ 0.76161202  0.76320703  0.5935899   0.63704111]\n",
      " [ 0.76605191  0.76473375  0.60070475  0.64403388]\n",
      " [ 0.76673497  0.77551226  0.59961439  0.64468345]\n",
      " [ 0.76946721  0.78202353  0.60340732  0.64939207]\n",
      " [ 0.76775956  0.78179422  0.60153359  0.6473964 ]]\n"
     ]
    }
   ],
   "source": [
    "print(np.array(scores_nb))"
   ]
  },
  {
   "cell_type": "markdown",
   "metadata": {},
   "source": [
    "Learning Curve for MNB"
   ]
  },
  {
   "cell_type": "code",
   "execution_count": 47,
   "metadata": {},
   "outputs": [
    {
     "data": {
      "image/png": "[encoded data removed]",
      "text/plain": [
       "<matplotlib.figure.Figure at 0x2998a83c358>"
      ]
     },
     "metadata": {},
     "output_type": "display_data"
    }
   ],
   "source": [
    "scores_nb = np.array(scores_nb)\n",
    "size = np.arange(568, 11721, 568)\n",
    "plt.title(\"Learning curve\")\n",
    "\n",
    "plt.plot(size, scores_nb[:, 0], label = 'Accuracy')\n",
    "plt.plot(size, scores_nb[:, 1], label = 'Precision')\n",
    "plt.plot(size, scores_nb[:, 2], label = 'Recall')\n",
    "plt.plot(size, scores_nb[:, 3], label = 'F1')\n",
    "\n",
    "plt.xlabel('Training size')\n",
    "plt.ylabel('Metric')\n",
    "plt.xlim(size.min(), size.max())\n",
    "#plt.ylim(0, 200)\n",
    "plt.legend(loc = 'lower right')\n",
    "plt.show()\n"
   ]
  },
  {
   "cell_type": "markdown",
   "metadata": {},
   "source": [
    "Conclusion: \n",
    "From the learning curve we generate from the Multinomial Naive Bayes classification, as the training data size increases, the accuracy of this model on all airlines' reviews are higher.\n",
    "As for the other metrics, precision is getting closer to the accuracy score as we have more data for training.Precision implies the ability the classifier not to label a negative result to a positive. In addition, the 'negative class\" in the precision here means \"the other two classes\". The recall rates implies the ability the model to find out the positive sample. When we have more training data set, this model is becoming slightly better to find out the right sample from the data but it doesn't make any big changes when we include almost 75% of the whole data as the training size. This happens to F1 score as well. However, the score for recall and f1 scores are only higher than 0.50 as more training data are included. Therefore, the ability for this Multinomial Naive Bayes classifier is not that good at finding the right class samples since it could roughly find only half of the right class."
   ]
  },
  {
   "cell_type": "markdown",
   "metadata": {},
   "source": [
    "## Accuracy of Logistic regression and MNB on the same plot"
   ]
  },
  {
   "cell_type": "code",
   "execution_count": 48,
   "metadata": {},
   "outputs": [
    {
     "data": {
      "image/png": "[encoded data removed]",
      "text/plain": [
       "<matplotlib.figure.Figure at 0x2998a5433c8>"
      ]
     },
     "metadata": {},
     "output_type": "display_data"
    }
   ],
   "source": [
    "size = np.arange(568, 11721, 568)\n",
    "plt.plot(size, scores_nb[:, 0], label = 'Accuracy from Naive Bayes')\n",
    "plt.plot(size, scores[:, 0], label = 'Accuracy from logistic regression')\n",
    "plt.xlabel('training size')\n",
    "plt.ylabel('accuracy score')\n",
    "plt.xlim(size.min(),size.max())\n",
    "plt.legend(loc='lower right')\n",
    "plt.show()\n"
   ]
  },
  {
   "cell_type": "markdown",
   "metadata": {},
   "source": [
    "In conclusion, in terms of accuracy rate, as the training data size gets larger, both models are making the result better, however, logistic regression has a better performance in terms of accuracy score, which means that they have higher scores of predicting the right reviews based on the tweets given."
   ]
  },
  {
   "cell_type": "code",
   "execution_count": null,
   "metadata": {
    "collapsed": true
   },
   "outputs": [],
   "source": []
  }
 ],
 "metadata": {
  "kernelspec": {
   "display_name": "Python 3",
   "language": "python",
   "name": "python3"
  },
  "language_info": {
   "codemirror_mode": {
    "name": "ipython",
    "version": 3
   },
   "file_extension": ".py",
   "mimetype": "text/x-python",
   "name": "python",
   "nbconvert_exporter": "python",
   "pygments_lexer": "ipython3",
   "version": "3.6.3"
  }
 },
 "nbformat": 4,
 "nbformat_minor": 2
}
